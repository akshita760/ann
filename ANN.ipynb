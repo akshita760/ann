{
 "cells": [
  {
   "cell_type": "code",
   "execution_count": 3,
   "metadata": {},
   "outputs": [
    {
     "data": {
      "text/plain": [
       "array([[0.98994621],\n",
       "       [0.98201945],\n",
       "       [0.02359983]])"
      ]
     },
     "execution_count": 3,
     "metadata": {},
     "output_type": "execute_result"
    }
   ],
   "source": [
    "import numpy as np\n",
    "\n",
    "X=np.array([[1,0,1,0],[1,0,1,1],[0,1,0,1]])\n",
    "\n",
    "#Output\n",
    "y=np.array([[1],[1],[0]])\n",
    "\n",
    "def sigmoid(x):\n",
    "    return 1 / (1 + np.exp(-x))\n",
    "\n",
    "def derivative_sigmoid(x):\n",
    "    return x * (1 - x)\n",
    "\n",
    "epoch = 10000\n",
    "learning_rate = 0.1\n",
    "input_neurons = 4\n",
    "hiddenlayer_neurons = 3\n",
    "output_neurons = 1\n",
    "\n",
    "# weight for hidden layer\n",
    "wh = np.random.uniform(size=(input_neurons, hiddenlayer_neurons))\n",
    "# bias for hidden layer\n",
    "bh = np.random.uniform(size=(1,hiddenlayer_neurons))\n",
    "# weight for output layer\n",
    "wout = np.random.uniform(size=(hiddenlayer_neurons,output_neurons))\n",
    "# bias for output layer\n",
    "bout = np.random.uniform(size=(1,output_neurons))\n",
    "\n",
    "\n",
    "for i in range(epoch):\n",
    "    # feedforward\n",
    "    hiddenlayer_input_1 = np.dot(X,wh)\n",
    "    hiddenlayer_input = hiddenlayer_input_1 + bh\n",
    "    hiddenlayer_activation = sigmoid(hiddenlayer_input)\n",
    "    \n",
    "    outputlayer_input = np.dot(hiddenlayer_activation,wout)\n",
    "    outputlayer = outputlayer_input + bout\n",
    "    output = sigmoid(outputlayer)\n",
    "    \n",
    "    # Backpropagation\n",
    "    E = y - output\n",
    "    slope_at_hidden = derivative_sigmoid(hiddenlayer_activation)\n",
    "    slope_at_output = derivative_sigmoid(output)\n",
    "    delta_output = E * slope_at_output\n",
    "    \n",
    "    Eh = delta_output.dot(wout.T)\n",
    "    delta_hidden = Eh * slope_at_hidden\n",
    "    \n",
    "    wout += np.dot(hiddenlayer_activation.T, delta_output) * learning_rate\n",
    "    bout += np.sum(delta_output, keepdims=True) * learning_rate\n",
    "    \n",
    "    wh += np.dot(X.T, delta_hidden) * learning_rate\n",
    "    bh += np.sum(delta_hidden, keepdims=True) * learning_rate\n",
    "output"
   ]
  },
  {
   "cell_type": "code",
   "execution_count": null,
   "metadata": {},
   "outputs": [],
   "source": []
  }
 ],
 "metadata": {
  "kernelspec": {
   "display_name": "Python 3",
   "language": "python",
   "name": "python3"
  },
  "language_info": {
   "codemirror_mode": {
    "name": "ipython",
    "version": 3
   },
   "file_extension": ".py",
   "mimetype": "text/x-python",
   "name": "python",
   "nbconvert_exporter": "python",
   "pygments_lexer": "ipython3",
   "version": "3.6.4"
  }
 },
 "nbformat": 4,
 "nbformat_minor": 2
}
